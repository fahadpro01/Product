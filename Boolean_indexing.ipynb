{
  "nbformat": 4,
  "nbformat_minor": 0,
  "metadata": {
    "colab": {
      "name": "Boolean indexing.ipynb",
      "provenance": [],
      "authorship_tag": "ABX9TyOsNODy8FxDPnWYXhGsa1fZ",
      "include_colab_link": true
    },
    "kernelspec": {
      "name": "python3",
      "display_name": "Python 3"
    }
  },
  "cells": [
    {
      "cell_type": "markdown",
      "metadata": {
        "id": "view-in-github",
        "colab_type": "text"
      },
      "source": [
        "<a href=\"https://colab.research.google.com/github/fahadpro01/Product/blob/master/Boolean_indexing.ipynb\" target=\"_parent\"><img src=\"https://colab.research.google.com/assets/colab-badge.svg\" alt=\"Open In Colab\"/></a>"
      ]
    },
    {
      "cell_type": "code",
      "metadata": {
        "id": "Q-T76PlUCFT-"
      },
      "source": [
        "import numpy as np"
      ],
      "execution_count": 1,
      "outputs": []
    },
    {
      "cell_type": "code",
      "metadata": {
        "id": "ms3H97MTCrlW",
        "outputId": "ff9387a8-494a-40f0-e3a3-378c4eccc933",
        "colab": {
          "base_uri": "https://localhost:8080/"
        }
      },
      "source": [
        "days = np.array(['sun','mon','tue','wed','thu','fri','sat','mon','tue','tue'])\n",
        "days"
      ],
      "execution_count": 3,
      "outputs": [
        {
          "output_type": "execute_result",
          "data": {
            "text/plain": [
              "array(['sun', 'mon', 'tue', 'wed', 'thu', 'fri', 'sat', 'mon', 'tue',\n",
              "       'tue'], dtype='<U3')"
            ]
          },
          "metadata": {
            "tags": []
          },
          "execution_count": 3
        }
      ]
    },
    {
      "cell_type": "code",
      "metadata": {
        "id": "CVdhTIuLDOXc",
        "outputId": "b0267651-0711-4a0a-daff-a55b6744ef50",
        "colab": {
          "base_uri": "https://localhost:8080/"
        }
      },
      "source": [
        "data=np.random.randn(10,4)\n",
        "data"
      ],
      "execution_count": 4,
      "outputs": [
        {
          "output_type": "execute_result",
          "data": {
            "text/plain": [
              "array([[ 0.31015507,  0.45972609, -1.90960891, -0.50643246],\n",
              "       [-0.96023904,  0.80572948,  0.19095347, -1.41798904],\n",
              "       [-0.12266462,  0.78742926,  0.72793442, -0.1639578 ],\n",
              "       [-0.7729685 ,  0.63356413,  0.53855549, -0.94037497],\n",
              "       [ 0.1411112 , -1.056305  ,  1.2260048 , -2.10027841],\n",
              "       [ 0.25886739,  0.19580011, -0.59483225,  0.02227147],\n",
              "       [-1.0239779 , -0.40621577, -0.12615806, -0.65909658],\n",
              "       [ 0.43871015, -0.50938643,  0.02893435, -0.16031198],\n",
              "       [-0.02096476, -0.87306507, -0.50947599,  0.33635725],\n",
              "       [ 1.01203446,  0.41355993, -1.0165687 ,  0.45743776]])"
            ]
          },
          "metadata": {
            "tags": []
          },
          "execution_count": 4
        }
      ]
    },
    {
      "cell_type": "code",
      "metadata": {
        "id": "yg89wqKvDX1k",
        "outputId": "0bd338aa-3a2e-4fac-e738-32cb683fc8f8",
        "colab": {
          "base_uri": "https://localhost:8080/"
        }
      },
      "source": [
        "days == 'mon'"
      ],
      "execution_count": 5,
      "outputs": [
        {
          "output_type": "execute_result",
          "data": {
            "text/plain": [
              "array([False,  True, False, False, False, False, False,  True, False,\n",
              "       False])"
            ]
          },
          "metadata": {
            "tags": []
          },
          "execution_count": 5
        }
      ]
    },
    {
      "cell_type": "code",
      "metadata": {
        "id": "5_IDBklxDdOA",
        "outputId": "8b3cf330-b982-48b9-ffb3-88c258732eb9",
        "colab": {
          "base_uri": "https://localhost:8080/"
        }
      },
      "source": [
        "data[days=='mon']"
      ],
      "execution_count": 6,
      "outputs": [
        {
          "output_type": "execute_result",
          "data": {
            "text/plain": [
              "array([[-0.96023904,  0.80572948,  0.19095347, -1.41798904],\n",
              "       [ 0.43871015, -0.50938643,  0.02893435, -0.16031198]])"
            ]
          },
          "metadata": {
            "tags": []
          },
          "execution_count": 6
        }
      ]
    },
    {
      "cell_type": "code",
      "metadata": {
        "id": "kJZqrBxYDpAR",
        "outputId": "b9b95e70-e7c8-462a-ae05-9fbbe8f73a56",
        "colab": {
          "base_uri": "https://localhost:8080/"
        }
      },
      "source": [
        "data[days=='mon',1:]"
      ],
      "execution_count": 7,
      "outputs": [
        {
          "output_type": "execute_result",
          "data": {
            "text/plain": [
              "array([[ 0.80572948,  0.19095347, -1.41798904],\n",
              "       [-0.50938643,  0.02893435, -0.16031198]])"
            ]
          },
          "metadata": {
            "tags": []
          },
          "execution_count": 7
        }
      ]
    },
    {
      "cell_type": "code",
      "metadata": {
        "id": "aT99goy-D1ou",
        "outputId": "176de4c2-c4c5-4688-9aac-46c5fb126360",
        "colab": {
          "base_uri": "https://localhost:8080/"
        }
      },
      "source": [
        "data[days=='mon',1]"
      ],
      "execution_count": 8,
      "outputs": [
        {
          "output_type": "execute_result",
          "data": {
            "text/plain": [
              "array([ 0.80572948, -0.50938643])"
            ]
          },
          "metadata": {
            "tags": []
          },
          "execution_count": 8
        }
      ]
    },
    {
      "cell_type": "code",
      "metadata": {
        "id": "uXUUIO5yD_Sg",
        "outputId": "37062b76-0c23-4c27-d6e8-70aded512d2b",
        "colab": {
          "base_uri": "https://localhost:8080/"
        }
      },
      "source": [
        "days !='mon'"
      ],
      "execution_count": 9,
      "outputs": [
        {
          "output_type": "execute_result",
          "data": {
            "text/plain": [
              "array([ True, False,  True,  True,  True,  True,  True, False,  True,\n",
              "        True])"
            ]
          },
          "metadata": {
            "tags": []
          },
          "execution_count": 9
        }
      ]
    },
    {
      "cell_type": "code",
      "metadata": {
        "id": "hq5DHInHEHNY",
        "outputId": "64439780-35a1-4584-a580-07947a5bccd2",
        "colab": {
          "base_uri": "https://localhost:8080/"
        }
      },
      "source": [
        "~(days=='mon')"
      ],
      "execution_count": 12,
      "outputs": [
        {
          "output_type": "execute_result",
          "data": {
            "text/plain": [
              "array([ True, False,  True,  True,  True,  True,  True, False,  True,\n",
              "        True])"
            ]
          },
          "metadata": {
            "tags": []
          },
          "execution_count": 12
        }
      ]
    },
    {
      "cell_type": "code",
      "metadata": {
        "id": "-IP0IWedETh1",
        "outputId": "322f6e08-20dc-44d2-d908-cdc26e88ceda",
        "colab": {
          "base_uri": "https://localhost:8080/"
        }
      },
      "source": [
        "data[~(days=='mon')]"
      ],
      "execution_count": 14,
      "outputs": [
        {
          "output_type": "execute_result",
          "data": {
            "text/plain": [
              "array([[ 0.31015507,  0.45972609, -1.90960891, -0.50643246],\n",
              "       [-0.12266462,  0.78742926,  0.72793442, -0.1639578 ],\n",
              "       [-0.7729685 ,  0.63356413,  0.53855549, -0.94037497],\n",
              "       [ 0.1411112 , -1.056305  ,  1.2260048 , -2.10027841],\n",
              "       [ 0.25886739,  0.19580011, -0.59483225,  0.02227147],\n",
              "       [-1.0239779 , -0.40621577, -0.12615806, -0.65909658],\n",
              "       [-0.02096476, -0.87306507, -0.50947599,  0.33635725],\n",
              "       [ 1.01203446,  0.41355993, -1.0165687 ,  0.45743776]])"
            ]
          },
          "metadata": {
            "tags": []
          },
          "execution_count": 14
        }
      ]
    },
    {
      "cell_type": "code",
      "metadata": {
        "id": "Q5Ga9IyeElY4",
        "outputId": "4f369031-f193-46f0-83e7-9e0c082b0c6e",
        "colab": {
          "base_uri": "https://localhost:8080/"
        }
      },
      "source": [
        "cond=(days=='mon')\n",
        "cond"
      ],
      "execution_count": 16,
      "outputs": [
        {
          "output_type": "execute_result",
          "data": {
            "text/plain": [
              "array([False,  True, False, False, False, False, False,  True, False,\n",
              "       False])"
            ]
          },
          "metadata": {
            "tags": []
          },
          "execution_count": 16
        }
      ]
    },
    {
      "cell_type": "code",
      "metadata": {
        "id": "eJNNX9LtEyIK",
        "outputId": "2566657a-2945-44ac-d37d-be9e0880078f",
        "colab": {
          "base_uri": "https://localhost:8080/"
        }
      },
      "source": [
        "data[~cond]"
      ],
      "execution_count": 17,
      "outputs": [
        {
          "output_type": "execute_result",
          "data": {
            "text/plain": [
              "array([[ 0.31015507,  0.45972609, -1.90960891, -0.50643246],\n",
              "       [-0.12266462,  0.78742926,  0.72793442, -0.1639578 ],\n",
              "       [-0.7729685 ,  0.63356413,  0.53855549, -0.94037497],\n",
              "       [ 0.1411112 , -1.056305  ,  1.2260048 , -2.10027841],\n",
              "       [ 0.25886739,  0.19580011, -0.59483225,  0.02227147],\n",
              "       [-1.0239779 , -0.40621577, -0.12615806, -0.65909658],\n",
              "       [-0.02096476, -0.87306507, -0.50947599,  0.33635725],\n",
              "       [ 1.01203446,  0.41355993, -1.0165687 ,  0.45743776]])"
            ]
          },
          "metadata": {
            "tags": []
          },
          "execution_count": 17
        }
      ]
    },
    {
      "cell_type": "code",
      "metadata": {
        "id": "V7kSoSMgE7_2",
        "outputId": "a5c38f02-5e7c-461e-8ae1-91f7a7caee4a",
        "colab": {
          "base_uri": "https://localhost:8080/"
        }
      },
      "source": [
        "multi_cond=(days=='mon')|(days=='Tue')\n",
        "multi_cond"
      ],
      "execution_count": 20,
      "outputs": [
        {
          "output_type": "execute_result",
          "data": {
            "text/plain": [
              "array([False,  True, False, False, False, False, False,  True, False,\n",
              "       False])"
            ]
          },
          "metadata": {
            "tags": []
          },
          "execution_count": 20
        }
      ]
    },
    {
      "cell_type": "code",
      "metadata": {
        "id": "Pw5c1PbhFemZ",
        "outputId": "9a7cb538-c01a-4105-f044-e87a66d4d938",
        "colab": {
          "base_uri": "https://localhost:8080/"
        }
      },
      "source": [
        "data[multi_cond]"
      ],
      "execution_count": 21,
      "outputs": [
        {
          "output_type": "execute_result",
          "data": {
            "text/plain": [
              "array([[-0.96023904,  0.80572948,  0.19095347, -1.41798904],\n",
              "       [ 0.43871015, -0.50938643,  0.02893435, -0.16031198]])"
            ]
          },
          "metadata": {
            "tags": []
          },
          "execution_count": 21
        }
      ]
    },
    {
      "cell_type": "code",
      "metadata": {
        "id": "IvbdV5zXFlhM",
        "outputId": "a2647901-23b7-4455-f8df-35f52d94cd6a",
        "colab": {
          "base_uri": "https://localhost:8080/"
        }
      },
      "source": [
        "data[data<0]=0\n",
        "data"
      ],
      "execution_count": 22,
      "outputs": [
        {
          "output_type": "execute_result",
          "data": {
            "text/plain": [
              "array([[0.31015507, 0.45972609, 0.        , 0.        ],\n",
              "       [0.        , 0.80572948, 0.19095347, 0.        ],\n",
              "       [0.        , 0.78742926, 0.72793442, 0.        ],\n",
              "       [0.        , 0.63356413, 0.53855549, 0.        ],\n",
              "       [0.1411112 , 0.        , 1.2260048 , 0.        ],\n",
              "       [0.25886739, 0.19580011, 0.        , 0.02227147],\n",
              "       [0.        , 0.        , 0.        , 0.        ],\n",
              "       [0.43871015, 0.        , 0.02893435, 0.        ],\n",
              "       [0.        , 0.        , 0.        , 0.33635725],\n",
              "       [1.01203446, 0.41355993, 0.        , 0.45743776]])"
            ]
          },
          "metadata": {
            "tags": []
          },
          "execution_count": 22
        }
      ]
    },
    {
      "cell_type": "code",
      "metadata": {
        "id": "uJwC2QumFteu",
        "outputId": "f5af4ff9-6121-41d1-afae-697a8e5078e5",
        "colab": {
          "base_uri": "https://localhost:8080/"
        }
      },
      "source": [
        "data[days!='mon']=0.5\n",
        "data"
      ],
      "execution_count": 23,
      "outputs": [
        {
          "output_type": "execute_result",
          "data": {
            "text/plain": [
              "array([[0.5       , 0.5       , 0.5       , 0.5       ],\n",
              "       [0.        , 0.80572948, 0.19095347, 0.        ],\n",
              "       [0.5       , 0.5       , 0.5       , 0.5       ],\n",
              "       [0.5       , 0.5       , 0.5       , 0.5       ],\n",
              "       [0.5       , 0.5       , 0.5       , 0.5       ],\n",
              "       [0.5       , 0.5       , 0.5       , 0.5       ],\n",
              "       [0.5       , 0.5       , 0.5       , 0.5       ],\n",
              "       [0.43871015, 0.        , 0.02893435, 0.        ],\n",
              "       [0.5       , 0.5       , 0.5       , 0.5       ],\n",
              "       [0.5       , 0.5       , 0.5       , 0.5       ]])"
            ]
          },
          "metadata": {
            "tags": []
          },
          "execution_count": 23
        }
      ]
    }
  ]
}