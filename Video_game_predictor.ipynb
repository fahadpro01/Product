{
  "nbformat": 4,
  "nbformat_minor": 0,
  "metadata": {
    "colab": {
      "name": "Video game predictor.ipynb",
      "provenance": [],
      "collapsed_sections": [],
      "authorship_tag": "ABX9TyPb0NRLvRUed0UAO+X1RFrq",
      "include_colab_link": true
    },
    "kernelspec": {
      "name": "python3",
      "display_name": "Python 3"
    }
  },
  "cells": [
    {
      "cell_type": "markdown",
      "metadata": {
        "id": "view-in-github",
        "colab_type": "text"
      },
      "source": [
        "<a href=\"https://colab.research.google.com/github/fahadpro01/Product/blob/master/Video_game_predictor.ipynb\" target=\"_parent\"><img src=\"https://colab.research.google.com/assets/colab-badge.svg\" alt=\"Open In Colab\"/></a>"
      ]
    },
    {
      "cell_type": "markdown",
      "metadata": {
        "id": "EKxz7KQv8-0W"
      },
      "source": [
        "Lets check the versions of the package and import"
      ]
    },
    {
      "cell_type": "code",
      "metadata": {
        "colab": {
          "base_uri": "https://localhost:8080/"
        },
        "id": "M8C0iL-U9KOU",
        "outputId": "a45d6560-c88c-42f0-ec97-a61333e26c43"
      },
      "source": [
        "import sys\n",
        "import pandas\n",
        "import matplotlib\n",
        "import seaborn\n",
        "import sklearn\n",
        "\n",
        "print(sys.version)\n",
        "print(pandas.__version__)\n",
        "print(matplotlib.__version__)\n",
        "print(seaborn.__version__)\n",
        "print(sklearn.__version__)"
      ],
      "execution_count": 5,
      "outputs": [
        {
          "output_type": "stream",
          "text": [
            "3.6.9 (default, Oct  8 2020, 12:12:24) \n",
            "[GCC 8.4.0]\n",
            "1.1.4\n",
            "3.2.2\n",
            "0.11.0\n",
            "0.22.2.post1\n"
          ],
          "name": "stdout"
        }
      ]
    },
    {
      "cell_type": "markdown",
      "metadata": {
        "id": "1KjkAxVfCAlA"
      },
      "source": [
        "lets import again"
      ]
    },
    {
      "cell_type": "code",
      "metadata": {
        "id": "cXbrLx5aCQ6x"
      },
      "source": [
        "import matplotlib.pyplot as plt\n",
        "import seaborn as sns\n",
        "from sklearn.model_selection import train_test_split"
      ],
      "execution_count": 14,
      "outputs": []
    },
    {
      "cell_type": "markdown",
      "metadata": {
        "id": "m0axw5rUCxhq"
      },
      "source": [
        "loading the data set using pandas"
      ]
    },
    {
      "cell_type": "code",
      "metadata": {
        "id": "AMJAB-ZfC1Mh"
      },
      "source": [
        "\n",
        "games = pandas.read_csv(\"games.csv\")"
      ],
      "execution_count": 16,
      "outputs": []
    },
    {
      "cell_type": "markdown",
      "metadata": {
        "id": "Oy4aVPN4Hpnb"
      },
      "source": [
        "lets make a column in games and how much datas are in the file"
      ]
    },
    {
      "cell_type": "code",
      "metadata": {
        "colab": {
          "base_uri": "https://localhost:8080/"
        },
        "id": "xclz_yiBHu_B",
        "outputId": "3a050f9e-24ad-4b73-9a1b-e96f0e57ad69"
      },
      "source": [
        "print(games.columns)\n",
        "print(games.shape)"
      ],
      "execution_count": 17,
      "outputs": [
        {
          "output_type": "stream",
          "text": [
            "Index(['id', 'type', 'name', 'yearpublished', 'minplayers', 'maxplayers',\n",
            "       'playingtime', 'minplaytime', 'maxplaytime', 'minage', 'users_rated',\n",
            "       'average_rating', 'bayes_average_rating', 'total_owners',\n",
            "       'total_traders', 'total_wanters', 'total_wishers', 'total_comments',\n",
            "       'total_weights', 'average_weight'],\n",
            "      dtype='object')\n",
            "(81312, 20)\n"
          ],
          "name": "stdout"
        }
      ]
    },
    {
      "cell_type": "markdown",
      "metadata": {
        "id": "6gCjIyQVIOcV"
      },
      "source": [
        "making the histogram of ratings in the average rating column"
      ]
    },
    {
      "cell_type": "code",
      "metadata": {
        "colab": {
          "base_uri": "https://localhost:8080/",
          "height": 265
        },
        "id": "qOb6R5fsIXlQ",
        "outputId": "20ec6b68-7cc3-42e0-b70e-b237c7164cf7"
      },
      "source": [
        "plt.hist(games[\"average_rating\"])\n",
        "plt.show()"
      ],
      "execution_count": 34,
      "outputs": [
        {
          "output_type": "display_data",
          "data": {
            "image/png": "[encoded data removed]",
            "text/plain": [
              "<Figure size 432x288 with 1 Axes>"
            ]
          },
          "metadata": {
            "tags": [],
            "needs_background": "light"
          }
        }
      ]
    },
    {
      "cell_type": "markdown",
      "metadata": {
        "id": "QHUy86q3It52"
      },
      "source": [
        "print the games with 0score"
      ]
    },
    {
      "cell_type": "code",
      "metadata": {
        "colab": {
          "base_uri": "https://localhost:8080/"
        },
        "id": "y4ZqwgQ0Iw6d",
        "outputId": "787feb61-ff27-4de3-9cb5-827a67c887a2"
      },
      "source": [
        "print(games[games[\"average_rating\"]==0].iloc[0])"
      ],
      "execution_count": 22,
      "outputs": [
        {
          "output_type": "stream",
          "text": [
            "id                                579\n",
            "type                        boardgame\n",
            "name                    Field of Fire\n",
            "yearpublished                    2002\n",
            "minplayers                          2\n",
            "maxplayers                          0\n",
            "playingtime                         0\n",
            "minplaytime                         0\n",
            "maxplaytime                         0\n",
            "minage                             12\n",
            "users_rated                         0\n",
            "average_rating                      0\n",
            "bayes_average_rating                0\n",
            "total_owners                        2\n",
            "total_traders                       0\n",
            "total_wanters                       0\n",
            "total_wishers                       1\n",
            "total_comments                      0\n",
            "total_weights                       0\n",
            "average_weight                      0\n",
            "Name: 13068, dtype: object\n"
          ],
          "name": "stdout"
        }
      ]
    },
    {
      "cell_type": "markdown",
      "metadata": {
        "id": "BgMbi8Z7JeOL"
      },
      "source": [
        "print first row  game score greater than 0"
      ]
    },
    {
      "cell_type": "code",
      "metadata": {
        "colab": {
          "base_uri": "https://localhost:8080/"
        },
        "id": "iwgvpn6xJwG6",
        "outputId": "65c70f09-52d3-4182-fdf2-01167e3aa53c"
      },
      "source": [
        "print(games[games[\"average_rating\"]>0].iloc[0])"
      ],
      "execution_count": 23,
      "outputs": [
        {
          "output_type": "stream",
          "text": [
            "id                                  12333\n",
            "type                            boardgame\n",
            "name                    Twilight Struggle\n",
            "yearpublished                        2005\n",
            "minplayers                              2\n",
            "maxplayers                              2\n",
            "playingtime                           180\n",
            "minplaytime                           180\n",
            "maxplaytime                           180\n",
            "minage                                 13\n",
            "users_rated                         20113\n",
            "average_rating                    8.33774\n",
            "bayes_average_rating              8.22186\n",
            "total_owners                        26647\n",
            "total_traders                         372\n",
            "total_wanters                        1219\n",
            "total_wishers                        5865\n",
            "total_comments                       5347\n",
            "total_weights                        2562\n",
            "average_weight                     3.4785\n",
            "Name: 0, dtype: object\n"
          ],
          "name": "stdout"
        }
      ]
    },
    {
      "cell_type": "code",
      "metadata": {
        "colab": {
          "base_uri": "https://localhost:8080/"
        },
        "id": "gKVM81rVOaB3",
        "outputId": "e3d6a578-8353-4541-ad14-ca865079f562"
      },
      "source": [
        "print(games.columns)"
      ],
      "execution_count": 35,
      "outputs": [
        {
          "output_type": "stream",
          "text": [
            "Index(['id', 'type', 'name', 'yearpublished', 'minplayers', 'maxplayers',\n",
            "       'playingtime', 'minplaytime', 'maxplaytime', 'minage', 'users_rated',\n",
            "       'average_rating', 'bayes_average_rating', 'total_owners',\n",
            "       'total_traders', 'total_wanters', 'total_wishers', 'total_comments',\n",
            "       'total_weights', 'average_weight'],\n",
            "      dtype='object')\n"
          ],
          "name": "stdout"
        }
      ]
    },
    {
      "cell_type": "code",
      "metadata": {
        "id": "HbiXkVqZOiEl"
      },
      "source": [
        ""
      ],
      "execution_count": null,
      "outputs": []
    },
    {
      "cell_type": "markdown",
      "metadata": {
        "id": "RuGduGMpOkBV"
      },
      "source": [
        "Lets great a corealtion matrix"
      ]
    },
    {
      "cell_type": "code",
      "metadata": {
        "colab": {
          "base_uri": "https://localhost:8080/",
          "height": 641
        },
        "id": "V88hSu3KOo3b",
        "outputId": "8a1a7761-d9b1-4a92-9ca2-bf88a3658a6f"
      },
      "source": [
        "corrmat = games.corr()\n",
        "fig = plt.figure(figsize=(12,9))\n",
        "sns.heatmap(corrmat,vmax=.8,square=True)\n",
        "plt.show()"
      ],
      "execution_count": 38,
      "outputs": [
        {
          "output_type": "display_data",
          "data": {
            "image/png": "[encoded data removed]",
            "text/plain": [
              "<Figure size 864x648 with 2 Axes>"
            ]
          },
          "metadata": {
            "tags": [],
            "needs_background": "light"
          }
        }
      ]
    },
    {
      "cell_type": "markdown",
      "metadata": {
        "id": "ZMNmqBJ8QcTm"
      },
      "source": [
        "get the all the colums in data frame"
      ]
    },
    {
      "cell_type": "code",
      "metadata": {
        "id": "v15UVsFKQgjP"
      },
      "source": [
        "columns = games.columns.tolist()\n",
        "columns =[c for c in columns if c not in [\"bayes_averating_rating\", \"average_rating\", \"type\", \"name\", \"id\"]]\n",
        "target =\"average_rating\""
      ],
      "execution_count": 56,
      "outputs": []
    },
    {
      "cell_type": "code",
      "metadata": {
        "id": "nQpdtfVuRQ3N"
      },
      "source": [
        "genearte training and test the datset"
      ],
      "execution_count": null,
      "outputs": []
    },
    {
      "cell_type": "code",
      "metadata": {
        "colab": {
          "base_uri": "https://localhost:8080/"
        },
        "id": "4Lg5AUhSRU4y",
        "outputId": "4eb2128a-c77f-40c5-bd64-da5a04e2ad42"
      },
      "source": [
        "from sklearn.model_selection import train_test_split\n",
        "train = games.sample(frac=0.8,random_state=1)\n",
        "test = games.loc[~games.index.isin(train.index)]\n",
        "print(train.shape)\n",
        "print(test.shape)"
      ],
      "execution_count": 57,
      "outputs": [
        {
          "output_type": "stream",
          "text": [
            "(65050, 20)\n",
            "(16262, 20)\n"
          ],
          "name": "stdout"
        }
      ]
    },
    {
      "cell_type": "markdown",
      "metadata": {
        "id": "V0i_A9RlSyzY"
      },
      "source": [
        "import linear regression mode\n"
      ]
    },
    {
      "cell_type": "code",
      "metadata": {
        "colab": {
          "base_uri": "https://localhost:8080/"
        },
        "id": "42njSRgbdX8m",
        "outputId": "c529ef2e-eb98-419f-f9d4-0dd7b0cfe881"
      },
      "source": [
        "# Importing LinearRegression Model\n",
        "from sklearn.linear_model import LinearRegression\n",
        "from sklearn.metrics import mean_squared_error\n",
        "\n",
        "# Initializing Model Class\n",
        "LR = LinearRegression()\n",
        "\n",
        "# Fitting the Training Data with the Model\n",
        "LR.fit(train[columns], train[target])"
      ],
      "execution_count": 64,
      "outputs": [
        {
          "output_type": "execute_result",
          "data": {
            "text/plain": [
              "LinearRegression(copy_X=True, fit_intercept=True, n_jobs=None, normalize=False)"
            ]
          },
          "metadata": {
            "tags": []
          },
          "execution_count": 64
        }
      ]
    },
    {
      "cell_type": "code",
      "metadata": {
        "colab": {
          "base_uri": "https://localhost:8080/"
        },
        "id": "8cSt4bgVeDVL",
        "outputId": "cb0cb477-25cb-419b-a482-d0e9f8ddad31"
      },
      "source": [
        "#geneating the predication\n",
        "predictions=LR.predict(test[columns])\n",
        "#test vs actual value\n",
        "mean_squared_error(predictions,test[target])"
      ],
      "execution_count": 67,
      "outputs": [
        {
          "output_type": "execute_result",
          "data": {
            "text/plain": [
              "2.078819032629323"
            ]
          },
          "metadata": {
            "tags": []
          },
          "execution_count": 67
        }
      ]
    },
    {
      "cell_type": "code",
      "metadata": {
        "colab": {
          "base_uri": "https://localhost:8080/"
        },
        "id": "TW7JUQGce0no",
        "outputId": "5d095677-e023-43c0-9589-a94aa0f91232"
      },
      "source": [
        "#import random forest\n",
        "from sklearn.ensemble import RandomForestRegressor\n",
        "#initaial the model\n",
        "RFR = RandomForestRegressor(n_estimators=100,min_samples_leaf=10,random_state=1)\n",
        "#fit the data\n",
        "RFR.fit(train[columns],train[target])"
      ],
      "execution_count": 68,
      "outputs": [
        {
          "output_type": "execute_result",
          "data": {
            "text/plain": [
              "RandomForestRegressor(bootstrap=True, ccp_alpha=0.0, criterion='mse',\n",
              "                      max_depth=None, max_features='auto', max_leaf_nodes=None,\n",
              "                      max_samples=None, min_impurity_decrease=0.0,\n",
              "                      min_impurity_split=None, min_samples_leaf=10,\n",
              "                      min_samples_split=2, min_weight_fraction_leaf=0.0,\n",
              "                      n_estimators=100, n_jobs=None, oob_score=False,\n",
              "                      random_state=1, verbose=0, warm_start=False)"
            ]
          },
          "metadata": {
            "tags": []
          },
          "execution_count": 68
        }
      ]
    },
    {
      "cell_type": "code",
      "metadata": {
        "colab": {
          "base_uri": "https://localhost:8080/"
        },
        "id": "gzrQA-P8flmp",
        "outputId": "d43b7293-70bc-4dd4-fcb8-684e98c926ef"
      },
      "source": [
        "predications = RFR.predict(test[columns])\n",
        "mean_squared_error(predictions,test[target])"
      ],
      "execution_count": 69,
      "outputs": [
        {
          "output_type": "execute_result",
          "data": {
            "text/plain": [
              "2.078819032629323"
            ]
          },
          "metadata": {
            "tags": []
          },
          "execution_count": 69
        }
      ]
    },
    {
      "cell_type": "code",
      "metadata": {
        "colab": {
          "base_uri": "https://localhost:8080/"
        },
        "id": "4j5NmZy6gAqh",
        "outputId": "ac3d3279-0c08-45fb-8ccd-b8e0ede50e34"
      },
      "source": [
        "test[columns].iloc[0]"
      ],
      "execution_count": 70,
      "outputs": [
        {
          "output_type": "execute_result",
          "data": {
            "text/plain": [
              "yearpublished      2011.0000\n",
              "minplayers            2.0000\n",
              "maxplayers            6.0000\n",
              "playingtime         200.0000\n",
              "minplaytime          60.0000\n",
              "maxplaytime         200.0000\n",
              "minage               14.0000\n",
              "users_rated       15709.0000\n",
              "total_owners      17611.0000\n",
              "total_traders       273.0000\n",
              "total_wanters      1108.0000\n",
              "total_wishers      5581.0000\n",
              "total_comments     3188.0000\n",
              "total_weights      1486.0000\n",
              "average_weight        3.6359\n",
              "Name: 9, dtype: float64"
            ]
          },
          "metadata": {
            "tags": []
          },
          "execution_count": 70
        }
      ]
    },
    {
      "cell_type": "code",
      "metadata": {
        "colab": {
          "base_uri": "https://localhost:8080/"
        },
        "id": "ZAOil1IhgKKI",
        "outputId": "07958608-bc0f-4e5b-f16b-82ca8f83338e"
      },
      "source": [
        "\n",
        "rating_LR=LR.predict(test[columns].iloc[0].values.reshape(1,-1))\n",
        "rating_RFR=RFR.predict(test[columns].iloc[0].values.reshape(1,-1))\n",
        "print(rating_LR)\n",
        "print(rating_RFR)"
      ],
      "execution_count": 72,
      "outputs": [
        {
          "output_type": "stream",
          "text": [
            "[8.12061283]\n",
            "[7.91373581]\n"
          ],
          "name": "stdout"
        }
      ]
    },
    {
      "cell_type": "code",
      "metadata": {
        "colab": {
          "base_uri": "https://localhost:8080/"
        },
        "id": "cEYKae0VgyMl",
        "outputId": "46bad3d8-71c3-4007-af8a-9a1d39cc651e"
      },
      "source": [
        "test[target].iloc[0]"
      ],
      "execution_count": 73,
      "outputs": [
        {
          "output_type": "execute_result",
          "data": {
            "text/plain": [
              "8.07933"
            ]
          },
          "metadata": {
            "tags": []
          },
          "execution_count": 73
        }
      ]
    },
    {
      "cell_type": "code",
      "metadata": {
        "id": "Mna3wy7-hKY0"
      },
      "source": [
        ""
      ],
      "execution_count": null,
      "outputs": []
    }
  ]
}